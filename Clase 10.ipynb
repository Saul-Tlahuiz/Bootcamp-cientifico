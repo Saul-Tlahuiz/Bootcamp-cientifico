{
 "cells": [
  {
   "cell_type": "code",
   "execution_count": 2,
   "id": "c72108fa",
   "metadata": {},
   "outputs": [
    {
     "name": "stdout",
     "output_type": "stream",
     "text": [
      "3.141592653598886\n"
     ]
    }
   ],
   "source": [
    "# integral numerica con threads\n",
    "\n",
    "function f(x)\n",
    "    return 4/(1+x*x)\n",
    "end\n",
    "\n",
    "function integralNum(ini,fin,num_pasos)\n",
    "    δ = (fin-ini)/(num_pasos)\n",
    "    x = δ/2 + ini\n",
    "    suma = zeros[4]\n",
    "    Threads.@threads for i=1:num_pasos\n",
    "        suma[Threads.threadid()]  +=  f(x)\n",
    "        x = x + δ\n",
    "    end\n",
    "    suma[1] = suma[1]+suma[2]+suma[3]+suma[4]\n",
    "    resultado = suma[1]*δ\n",
    "    return resultado\n",
    "end\n",
    "pi_estimado = integralNum(0.0,1.0,100000)\n",
    "println(pi_estimado)"
   ]
  },
  {
   "cell_type": "code",
   "execution_count": 4,
   "id": "cd24975a",
   "metadata": {},
   "outputs": [],
   "source": [
    "function uno(a,b)\n",
    "    for i in 1:length(a)\n",
    "        a[i] += b[i]\n",
    "    end\n",
    "end\n",
    "\n",
    "function dos(a,b)\n",
    "    for i in 1:length(a)\n",
    "        a[i]*=b[i]\n",
    "    end\n",
    "end\n",
    "\n",
    "ta = Threads.@spawn rand(10000000)\n",
    "tb = Threads.@spawn rand(10000000)\n",
    "tc = Threads.@spawn rand(10000000)\n",
    "td = Threads.@spawn rand(10000000)\n",
    "a = fetch(ta)\n",
    "b = fetch(tb)\n",
    "c = fetch(tc)\n",
    "d = fetch(td)\n",
    "\n",
    "tf1 = Threads.@spawn uno(a,b)\n",
    "tf2 = Threads.@spawn dos(c,d)\n",
    "wait(tf1)\n",
    "wait(tf2)"
   ]
  }
 ],
 "metadata": {
  "kernelspec": {
   "display_name": "Julia 1.10.4",
   "language": "julia",
   "name": "julia-1.10"
  },
  "language_info": {
   "file_extension": ".jl",
   "mimetype": "application/julia",
   "name": "julia",
   "version": "1.10.4"
  }
 },
 "nbformat": 4,
 "nbformat_minor": 5
}
