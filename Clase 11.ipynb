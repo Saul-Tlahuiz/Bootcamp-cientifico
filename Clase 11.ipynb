{
 "cells": [
  {
   "cell_type": "code",
   "execution_count": 1,
   "id": "47d23c9a",
   "metadata": {},
   "outputs": [
    {
     "name": "stdout",
     "output_type": "stream",
     "text": [
      "1\n"
     ]
    }
   ],
   "source": [
    "using Base.Threads\n",
    "println(nthreads())"
   ]
  },
  {
   "cell_type": "code",
   "execution_count": 2,
   "id": "b9cf2278",
   "metadata": {},
   "outputs": [
    {
     "data": {
      "text/plain": [
       "tarea_larga (generic function with 1 method)"
      ]
     },
     "execution_count": 2,
     "metadata": {},
     "output_type": "execute_result"
    }
   ],
   "source": [
    "function tarea_larga()\n",
    "    a = 0\n",
    "    for i in 1:10\n",
    "        a += 3\n",
    "        sleep(1)\n",
    "    end\n",
    "    return a\n",
    "end"
   ]
  },
  {
   "cell_type": "code",
   "execution_count": 3,
   "id": "c36da129",
   "metadata": {},
   "outputs": [
    {
     "data": {
      "text/plain": [
       "30"
      ]
     },
     "execution_count": 3,
     "metadata": {},
     "output_type": "execute_result"
    }
   ],
   "source": [
    "tarea_larga()"
   ]
  },
  {
   "cell_type": "code",
   "execution_count": 4,
   "id": "2660b130",
   "metadata": {},
   "outputs": [
    {
     "data": {
      "text/plain": [
       "30.2751124"
      ]
     },
     "execution_count": 4,
     "metadata": {},
     "output_type": "execute_result"
    }
   ],
   "source": [
    "@elapsed begin \n",
    "    p1 = tarea_larga()\n",
    "    p2 = tarea_larga()\n",
    "    p3 = tarea_larga()\n",
    "    (p1,p2,p3)\n",
    "end"
   ]
  },
  {
   "cell_type": "code",
   "execution_count": 5,
   "id": "e442b9ae",
   "metadata": {},
   "outputs": [
    {
     "data": {
      "text/plain": [
       "10.1167509"
      ]
     },
     "execution_count": 5,
     "metadata": {},
     "output_type": "execute_result"
    }
   ],
   "source": [
    "@elapsed begin \n",
    "    t1 = Task(tarea_larga); schedule(t1)\n",
    "    t2 = Task(tarea_larga); schedule(t2)\n",
    "    t3 = Task(tarea_larga); schedule(t3)\n",
    "    a = (fetch(t1),fetch(t2),fetch(t3))\n",
    "end"
   ]
  },
  {
   "cell_type": "code",
   "execution_count": 6,
   "id": "d0433a4e",
   "metadata": {},
   "outputs": [
    {
     "name": "stdout",
     "output_type": "stream",
     "text": [
      "(30, 30, 30)\n"
     ]
    }
   ],
   "source": [
    "println(a)"
   ]
  },
  {
   "cell_type": "code",
   "execution_count": null,
   "id": "95d3721e",
   "metadata": {},
   "outputs": [],
   "source": [
    "/*\n",
    "el siguiente codigo es en lenguaje C++ y muestra los tipos de datos basicos en el mismo\n",
    "*/\n",
    "\n",
    "int main (void){\n",
    "//En C++ las variables se define el tipo de dato para poder usarlas \n",
    "bool a = true;\n",
    "char b('a');\n",
    "char c = 97;\n",
    "int d = 123;\n",
    "int e{e-123}\n",
    "//Pausar para imprimir lo que hay hasta ahora\n",
    "std::cout << a << std::endl;\n",
    "std::cout << b << std::endl;\n",
    "std::cout << c << std::endl;\n",
    "std::cout << d << std::endl;\n",
    "std::cout << e << std::endl;\n",
    "\n",
    "int e2 = 10; // decimal\n",
    "int e3 = 012;// formaro octal\n",
    "int e4{0xA}; //formato hexadecimal\n",
    "\n",
    "std::cout << e2 << std::endl;\n",
    "std::cout << e3 << std::endl;\n",
    "std::cout << e4 << std::endl;\n",
    "\n",
    "// un ejemplo\n",
    "unsigned long int e5 = 4294967295;\n",
    "std::cout << e5 << std::endl;\n",
    "\n",
    "float f{1.43e-5};\n",
    "double g = -1.2e43;\n",
    "std::cout << f << std::endl;\n",
    "std::cout << g << std::endl;\n",
    "\n",
    "//Un caso especial\n",
    "long double h = 4.5e-103;\n",
    "std::cout <<h << std::endl;\n",
    "return 0;\n",
    "}"
   ]
  },
  {
   "cell_type": "code",
   "execution_count": null,
   "id": "61ff8a56",
   "metadata": {},
   "outputs": [],
   "source": []
  }
 ],
 "metadata": {
  "kernelspec": {
   "display_name": "Julia 1.10.4",
   "language": "julia",
   "name": "julia-1.10"
  },
  "language_info": {
   "file_extension": ".jl",
   "mimetype": "application/julia",
   "name": "julia",
   "version": "1.10.4"
  }
 },
 "nbformat": 4,
 "nbformat_minor": 5
}
