{
 "cells": [
  {
   "cell_type": "markdown",
   "id": "4a203235",
   "metadata": {},
   "source": [
    "### Reglas de codificacion en la asignacion de variables\n",
    "1.Utilizar en la medida de lo posible \n",
    "\n",
    "2.\n",
    "\n",
    "3.\n",
    "\n",
    "4.Los nombres de las clases en la primera letra del nombre que sea mayuscula: eje: Zapato:"
   ]
  },
  {
   "cell_type": "code",
   "execution_count": 5,
   "id": "ced03516",
   "metadata": {},
   "outputs": [
    {
     "data": {
      "text/plain": [
       "64"
      ]
     },
     "execution_count": 5,
     "metadata": {},
     "output_type": "execute_result"
    }
   ],
   "source": [
    "function cuadrado(x)\n",
    "    resultado = x*x\n",
    "    return resultado\n",
    "end"
   ]
  },
  {
   "cell_type": "code",
   "execution_count": 10,
   "id": "b9b1c254",
   "metadata": {},
   "outputs": [
    {
     "name": "stdout",
     "output_type": "stream",
     "text": [
      "36\n",
      "23\n",
      "String\n",
      "HolaHola\n"
     ]
    }
   ],
   "source": [
    "num1 = 6\n",
    "resultado = cuadrado(6)\n",
    "println(resultado)\n",
    "result2 = 2cuadrado(6÷2)+5\n",
    "println(result2)\n",
    "variable_cadena = cuadrado(\"Hola\")\n",
    "println(typeof(variable_cadena))\n",
    "println(variable_cadena)"
   ]
  },
  {
   "cell_type": "code",
   "execution_count": 12,
   "id": "7a41bebb",
   "metadata": {},
   "outputs": [
    {
     "name": "stdout",
     "output_type": "stream",
     "text": [
      "25\n",
      "Int64\n"
     ]
    }
   ],
   "source": [
    "function cuadradoEntero(n::Int64)\n",
    "    return n*n\n",
    "end\n",
    "function main()\n",
    "    println(cuadradoEntero(5))\n",
    "    println(typeof(cuadradoEntero(5)))\n",
    "end\n",
    "main()"
   ]
  },
  {
   "cell_type": "code",
   "execution_count": 18,
   "id": "3b89b3c0",
   "metadata": {},
   "outputs": [
    {
     "name": "stdout",
     "output_type": "stream",
     "text": [
      "19.360000000000003\n",
      "36\n"
     ]
    },
    {
     "ename": "LoadError",
     "evalue": "MethodError: no method matching cuadradoB(::String)\n\n\u001b[0mClosest candidates are:\n\u001b[0m  cuadradoB(\u001b[91m::Float64\u001b[39m)\n\u001b[0m\u001b[90m   @\u001b[39m \u001b[35mMain\u001b[39m \u001b[90m\u001b[4mIn[18]:6\u001b[24m\u001b[39m\n\u001b[0m  cuadradoB(\u001b[91m::Int64\u001b[39m)\n\u001b[0m\u001b[90m   @\u001b[39m \u001b[35mMain\u001b[39m \u001b[90m\u001b[4mIn[18]:1\u001b[24m\u001b[39m\n",
     "output_type": "error",
     "traceback": [
      "MethodError: no method matching cuadradoB(::String)\n\n\u001b[0mClosest candidates are:\n\u001b[0m  cuadradoB(\u001b[91m::Float64\u001b[39m)\n\u001b[0m\u001b[90m   @\u001b[39m \u001b[35mMain\u001b[39m \u001b[90m\u001b[4mIn[18]:6\u001b[24m\u001b[39m\n\u001b[0m  cuadradoB(\u001b[91m::Int64\u001b[39m)\n\u001b[0m\u001b[90m   @\u001b[39m \u001b[35mMain\u001b[39m \u001b[90m\u001b[4mIn[18]:1\u001b[24m\u001b[39m\n",
      "",
      "Stacktrace:",
      " [1] main()",
      "   @ Main .\\In[18]:14",
      " [2] top-level scope",
      "   @ In[18]:16"
     ]
    }
   ],
   "source": [
    "function cuadradoB(n::Int64)\n",
    "    return n*n\n",
    "end\n",
    "#cuadradoB(9)\n",
    "\n",
    "function cuadradoB(x::Float64)\n",
    "    return x*x\n",
    "end\n",
    "cuadradoB(9)\n",
    "\n",
    "function main()\n",
    "    println(cuadradoB(4.4))\n",
    "    println(cuadradoB(6))\n",
    "    println(cuadradoB(\"Hola\"))\n",
    "end\n",
    "main()"
   ]
  },
  {
   "cell_type": "code",
   "execution_count": 20,
   "id": "ce375e89",
   "metadata": {},
   "outputs": [
    {
     "name": "stdout",
     "output_type": "stream",
     "text": [
      "12\n",
      "3.0\n"
     ]
    }
   ],
   "source": [
    "# Con este tipo de funciones donde el tipo de dato que entra es distinto y por ende el resultado va a cambiar\n",
    "# se puede decir que se usa el polimorfismo ya que la funcion se acopla al tipo de dato para el que va a servir\n",
    "\n",
    "function my_function(n::Int64)\n",
    "    resultado::Int64 = n+n\n",
    "    return resultado\n",
    "end\n",
    "function my_function(x::Float64)\n",
    "    resultado::Float64 = x*0.5\n",
    "    return resultado\n",
    "end\n",
    "\n",
    "function main()\n",
    "    println(my_function(6))\n",
    "    println(my_function(6.0))\n",
    "end\n",
    "main()\n"
   ]
  },
  {
   "cell_type": "code",
   "execution_count": 22,
   "id": "c74ff099",
   "metadata": {},
   "outputs": [
    {
     "name": "stdout",
     "output_type": "stream",
     "text": [
      "En la funcion principal, x es 5\n",
      "En my_function2, antes de incrementar, n es 5\n",
      "En my_function2, despues de incrementar, n es 12\n",
      "Despues de invocar en la funcion principal, x es 5\n",
      "nothing\n"
     ]
    }
   ],
   "source": [
    "function my_function2(n)\n",
    "    println(\"En my_function2, antes de incrementar, n es $n\")\n",
    "    n += 7\n",
    "    println(\"En my_function2, despues de incrementar, n es $n\")\n",
    "end\n",
    "\n",
    "function main()\n",
    "    x = 5\n",
    "    println(\"En la funcion principal, x es $x\")\n",
    "    y = my_function2(x)\n",
    "    println(\"Despues de invocar en la funcion principal, x es $x\")\n",
    "    println(y)\n",
    "end\n",
    "main()"
   ]
  },
  {
   "cell_type": "code",
   "execution_count": 24,
   "id": "fe9d56ad",
   "metadata": {},
   "outputs": [
    {
     "name": "stdout",
     "output_type": "stream",
     "text": [
      "Sus valores antes de intercambiar son 3,8\n",
      "Sus valores despues del intercambio son 8, 3\n",
      "3,8\n"
     ]
    }
   ],
   "source": [
    "function intercambio(a,b)\n",
    "    println(\"Sus valores antes de intercambiar son $a,$b\")\n",
    "    t = a\n",
    "    a = b\n",
    "    b = t\n",
    "    println(\"Sus valores despues del intercambio son $a, $b\")\n",
    "end\n",
    "function main()\n",
    "    a = 3\n",
    "    b = 8\n",
    "    intercambio(a,b)\n",
    "    println(\"$a,$b\")\n",
    "end\n",
    "main()"
   ]
  },
  {
   "cell_type": "code",
   "execution_count": 25,
   "id": "d562ed4d",
   "metadata": {},
   "outputs": [
    {
     "data": {
      "text/plain": [
       "\"Hola 34\""
      ]
     },
     "execution_count": 25,
     "metadata": {},
     "output_type": "execute_result"
    }
   ],
   "source": [
    "function test1(n)\n",
    "    \"Hola $n\"  #en algunos casos se puede omitir el return \n",
    "end\n",
    "test1(34)"
   ]
  },
  {
   "cell_type": "code",
   "execution_count": 37,
   "id": "ef9df17e",
   "metadata": {},
   "outputs": [
    {
     "name": "stdout",
     "output_type": "stream",
     "text": [
      "-17876557688806561605769647156776402944\n",
      "6.082818640342675e62\n"
     ]
    }
   ],
   "source": [
    "function factorial(n::Int128)\n",
    "    resultado = 1\n",
    "    for i ∈ 1:n\n",
    "        resultado = resultado*i\n",
    "    end\n",
    "    resultado\n",
    "end\n",
    "\n",
    "function factorial(x::Float64)\n",
    "    resultado = 1.0\n",
    "    contador = 1.0\n",
    "    while contador < x\n",
    "        resultado = resultado * contador\n",
    "        contador += 1\n",
    "    end\n",
    "    resultado\n",
    "end\n",
    "n::Int128 = 50\n",
    "println(factorial(n))\n",
    "println(factorial(50.0))"
   ]
  },
  {
   "cell_type": "markdown",
   "id": "2c1527c5",
   "metadata": {},
   "source": [
    "n! = 1*2*3*4*5*6\n",
    "n! = n * (n-1)*(n-2)....\n",
    "n! = n * (n-1)! para n >= 1, 0!=1,1! = 1"
   ]
  },
  {
   "cell_type": "code",
   "execution_count": 38,
   "id": "606a4b52",
   "metadata": {},
   "outputs": [
    {
     "name": "stdout",
     "output_type": "stream",
     "text": [
      "2432902008176640000\n"
     ]
    }
   ],
   "source": [
    "function factorial2(n::Int128)\n",
    "    if n == 1 || n == 0\n",
    "        return 1\n",
    "    end\n",
    "    return n * factorial2(n-1)\n",
    "end\n",
    "\n",
    "p::Int128 = 20\n",
    "println(factorial2(p))"
   ]
  },
  {
   "cell_type": "code",
   "execution_count": 42,
   "id": "18a8cc02",
   "metadata": {},
   "outputs": [
    {
     "data": {
      "text/plain": [
       "30414093201713378043612608166064768844377641568960512000000000000"
      ]
     },
     "execution_count": 42,
     "metadata": {},
     "output_type": "execute_result"
    }
   ],
   "source": [
    "factorial(20)\n",
    "factorial(big(50))"
   ]
  },
  {
   "cell_type": "code",
   "execution_count": null,
   "id": "9d55ca0a",
   "metadata": {},
   "outputs": [],
   "source": [
    "[4,6,7,1,28,-16,32,-2]\n",
    "# un algoritmo para ordenar una lista es quicksort() pero se debe buscar su implementacion en cada lenguaje"
   ]
  },
  {
   "cell_type": "code",
   "execution_count": 40,
   "id": "4121c484",
   "metadata": {},
   "outputs": [
    {
     "data": {
      "text/plain": [
       "51090942171709440000"
      ]
     },
     "execution_count": 40,
     "metadata": {},
     "output_type": "execute_result"
    }
   ],
   "source": [
    "b1::Int128 = factorial2(Int128(21))"
   ]
  },
  {
   "cell_type": "markdown",
   "id": "7c6665bf",
   "metadata": {},
   "source": [
    "## Clases\n",
    "### Tipos Base\n",
    "\n",
    "-Primitivos\n",
    "\n",
    "-Enteros\n",
    "\n",
    "-Flotantes(reales)\n",
    "\n",
    "-Caracter\n",
    "\n",
    "### Compuestos\n",
    "\n",
    "-Vectores\n",
    "\n",
    "-Matrices\n",
    "\n",
    "-Diccionarios\n",
    "\n",
    "-Tuplas\n",
    "\n",
    "Definidos por el usuario\n",
    "\n",
    "-Compuestos,heterogeneos.\n",
    "\n",
    "### Struct\n",
    "-Lenguaje C\n",
    "\n",
    "### Lenguajes orientados a objetos\n",
    "-Clases:Class\n",
    "\n",
    "-Lenguajes como:C++,Java,Python,C#\n",
    "\n",
    "clase:\n",
    "  caracteristicas\n",
    "  comportamientos\n",
    "  \n",
    "Métodos: Constructor,Destructor, getter,setter,display,calculo"
   ]
  },
  {
   "cell_type": "code",
   "execution_count": 43,
   "id": "1bb8665b",
   "metadata": {},
   "outputs": [
    {
     "data": {
      "text/plain": [
       "cosa(\"Chunchita\")"
      ]
     },
     "execution_count": 43,
     "metadata": {},
     "output_type": "execute_result"
    }
   ],
   "source": [
    "struct cosa\n",
    "    nombre::String\n",
    "end\n",
    "chuche = cosa(\"Chunchita\")"
   ]
  },
  {
   "cell_type": "code",
   "execution_count": 71,
   "id": "8fd955f8",
   "metadata": {},
   "outputs": [
    {
     "name": "stdout",
     "output_type": "stream",
     "text": [
      "Nombre: Jose\n",
      "Creditos: 240\n",
      "Numero de cuenta: 31708598-8\n",
      "----------------------------\n",
      "Nombre: Tronchatoro\n",
      "Cursos impartidos: 3\n",
      "Numero de trabajador: 3847549-1\n"
     ]
    }
   ],
   "source": [
    "struct Alumno\n",
    "    nombre::String\n",
    "    avance_creditos::UInt16\n",
    "    num_cuenta::String\n",
    "end\n",
    "\n",
    "struct Profesor\n",
    "    nombre::String\n",
    "    cursos_impartidos::UInt16\n",
    "    num_trabajador::String\n",
    "end\n",
    "\n",
    "function displayDatosAlumno(alumno::Alumno)\n",
    "    println(\"Nombre: $(alumno.nombre)\")\n",
    "    println(\"Creditos: $(alumno.avance_creditos)\")\n",
    "    println(\"Numero de cuenta: $(alumno.num_cuenta)\")\n",
    "end\n",
    "    \n",
    "function displayDatosProfesor(profesor::Profesor)\n",
    "    println(\"Nombre: $(profesor.nombre)\")\n",
    "    println(\"Cursos impartidos: $(profesor.cursos_impartidos)\")\n",
    "    println(\"Numero de trabajador: $(profesor.num_trabajador)\")\n",
    "end\n",
    "    \n",
    "Pepe = Alumno(\"Jose\",240,\"31708598-8\")\n",
    "Pepe.num_cuenta\n",
    "Tronchatoro = Profesor(\"Tronchatoro\",3,\"3847549-1\")\n",
    "displayDatosAlumno(Pepe) # solo funciona con el tipo Alumno por eso manda eror con tronchatoro ya que es \n",
    "println(\"----------------------------\")\n",
    "displayDatosProfesor(Tronchatoro) # del tipo profesor"
   ]
  },
  {
   "cell_type": "code",
   "execution_count": 72,
   "id": "d339e4b1",
   "metadata": {},
   "outputs": [
    {
     "data": {
      "text/plain": [
       "\"Jose\""
      ]
     },
     "execution_count": 72,
     "metadata": {},
     "output_type": "execute_result"
    }
   ],
   "source": [
    "function get_nombre(alumno::Alumno)\n",
    "    return alumno.nombre\n",
    "end\n",
    "\n",
    "function get_cuenta(alumno::Alumno)\n",
    "    return alumno.num_cuenta\n",
    "end\n",
    "\n",
    "alumno1 = get_nombre(Pepe)"
   ]
  }
 ],
 "metadata": {
  "kernelspec": {
   "display_name": "Julia 1.10.4",
   "language": "julia",
   "name": "julia-1.10"
  },
  "language_info": {
   "file_extension": ".jl",
   "mimetype": "application/julia",
   "name": "julia",
   "version": "1.10.4"
  }
 },
 "nbformat": 4,
 "nbformat_minor": 5
}
