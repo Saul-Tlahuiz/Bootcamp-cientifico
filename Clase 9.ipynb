{
 "cells": [
  {
   "cell_type": "code",
   "execution_count": null,
   "id": "0577d288",
   "metadata": {},
   "outputs": [],
   "source": [
    "#= codigo en python de la funcion que calcula el seno de un numero en el intervalo [-π,π]\n",
    "import math\n",
    "def seno(x):\n",
    "  signo = 1.0\n",
    "  if x < 0:\n",
    "      signo = -1.0\n",
    "  if -math.pi < x and x < math.pi:\n",
    "      x0 = x/1024\n",
    "      y = x0*x0\n",
    "      for i in range(10):\n",
    "          y = 4*y*(1-y)\n",
    "  y = signo*math.sqrt(y)\n",
    "  return y\n",
    "=#"
   ]
  },
  {
   "cell_type": "code",
   "execution_count": 2,
   "id": "37efb7f0",
   "metadata": {},
   "outputs": [],
   "source": [
    "mutable struct matrix3\n",
    "    d0::Vector\n",
    "    d1::Vector\n",
    "    d2::Vector\n",
    "end"
   ]
  },
  {
   "cell_type": "code",
   "execution_count": 17,
   "id": "2341de2b",
   "metadata": {},
   "outputs": [
    {
     "data": {
      "text/plain": [
       "5-element Vector{Float64}:\n",
       " 1.0\n",
       " 1.0\n",
       " 1.0\n",
       " 1.0000000000000002\n",
       " 1.0000000000000002"
      ]
     },
     "execution_count": 17,
     "metadata": {},
     "output_type": "execute_result"
    }
   ],
   "source": [
    "# funcion para eliminacion gaussiana\n",
    "function thomas(una_matrix3::matrix3,b::Vector)\n",
    "    n = length(b)\n",
    "    x = zeros(n)\n",
    "    b = copy(b)\n",
    "    d0 = copy(una_matrix3.d0)\n",
    "    d1 = una_matrix3.d1\n",
    "    d2 = una_matrix3.d2\n",
    "    for i = 2:n\n",
    "        α = d1[i]/d0[i-1]\n",
    "        d0[i] = d0[i]-α*d2[i-1]\n",
    "        b[i] = b[i]-α*b[i-1]\n",
    "    end\n",
    "    x[n] = b[n]/d0[n]\n",
    "    for i = n-1:-1:1\n",
    "        x[i] = (b[i]-d2[i]*x[i+1])/d0[i]\n",
    "    end\n",
    "    x\n",
    "end\n",
    "\n",
    "#Funcion para la suma de matrices\n",
    "function suma(matriz1::matrix3,matriz2::matrix3)\n",
    "    n = length(matriz1.d0)\n",
    "     a = zeros(n)\n",
    "    b = zeros(n)\n",
    "    c = zeros(n)\n",
    "    resultado = matrix3(a,b,c)\n",
    "    for i ∈ 1:n\n",
    "        resultado.d0[i] = matriz1.d0[i] + matriz2.d0[i]\n",
    "        resultado.d1[i] = matriz1.d1[i] + matriz2.d1[i]\n",
    "        resultado.d2[i] = matriz1.d2[i] + matriz2.d2[i]\n",
    "    end\n",
    "    return resultado\n",
    "end\n",
    "\n",
    "#Funcion para la multiplicacion de matriz por vector\n",
    "function matrizXvector(matriz::matrix3,b::Vector)\n",
    "    n = length(b)\n",
    "    c = zeros(n)\n",
    "    temporal = 0.0\n",
    "    c[1] = b[1]*matriz.d0[1] + b[2]*matriz.d2[1]\n",
    "    c[n] = b[n]*matriz.d0[n] + b[n-1]*matriz.d1[n]\n",
    "    for i=2:n-1\n",
    "        c[i] = b[i-1]*matriz.d1[i] + b[i]*matriz.d0[i] + b[i+1]*matriz.d2[i]\n",
    "    end\n",
    "    return c\n",
    "end\n",
    "\n",
    "a0 = [2.,5.,7.,3.,-1.]\n",
    "a1 = [0.,3.,-4.,-2.,3.]\n",
    "a2 = [4.,-2.,3.,1.,0.]\n",
    "b = [6.,6.,6.,2.,2.]\n",
    "ejemplo_matrix = matrix3(a0,a1,a2)\n",
    "ejemplo2 = matrix3(a0,a1,a2)\n",
    "thomas(ejemplo_matrix,b)\n",
    "#suma(ejemplo_matrix,ejemplo2)"
   ]
  },
  {
   "cell_type": "code",
   "execution_count": 18,
   "id": "c35764d0",
   "metadata": {},
   "outputs": [
    {
     "data": {
      "text/plain": [
       "5-element Vector{Float64}:\n",
       " 6.0\n",
       " 6.0\n",
       " 6.0\n",
       " 2.0\n",
       " 2.0"
      ]
     },
     "execution_count": 18,
     "metadata": {},
     "output_type": "execute_result"
    }
   ],
   "source": [
    "matrizXvector(ejemplo_matrix,ones(5))"
   ]
  },
  {
   "cell_type": "code",
   "execution_count": 21,
   "id": "526cdb2d",
   "metadata": {},
   "outputs": [
    {
     "data": {
      "text/plain": [
       "Cstring(0x0000000000000000)"
      ]
     },
     "execution_count": 21,
     "metadata": {},
     "output_type": "execute_result"
    }
   ],
   "source": [
    "t = @ccall getenv(\"SHELL\"::Cstring)::Cstring\n",
    "mi_shell = @ccall getenv(\"SHELL\"::Cstring)::Cstring"
   ]
  },
  {
   "cell_type": "code",
   "execution_count": 22,
   "id": "b4a1b7f1",
   "metadata": {},
   "outputs": [
    {
     "ename": "LoadError",
     "evalue": "ArgumentError: cannot convert NULL to string",
     "output_type": "error",
     "traceback": [
      "ArgumentError: cannot convert NULL to string",
      "",
      "Stacktrace:",
      " [1] unsafe_string",
      "   @ .\\strings\\string.jl:84 [inlined]",
      " [2] unsafe_string(s::Cstring)",
      "   @ Base .\\c.jl:193",
      " [3] top-level scope",
      "   @ In[22]:1"
     ]
    }
   ],
   "source": [
    "unsafe_string(mi_shell)"
   ]
  },
  {
   "cell_type": "code",
   "execution_count": 24,
   "id": "d4da5874",
   "metadata": {},
   "outputs": [
    {
     "ename": "LoadError",
     "evalue": "getenv:Variable de ambiente no econtrada: PWD",
     "output_type": "error",
     "traceback": [
      "getenv:Variable de ambiente no econtrada: PWD",
      "",
      "Stacktrace:",
      " [1] error(::String, ::String)",
      "   @ Base .\\error.jl:44",
      " [2] valorVariable(var::String)",
      "   @ Main .\\In[24]:4",
      " [3] top-level scope",
      "   @ In[24]:8"
     ]
    }
   ],
   "source": [
    "function valorVariable(var::AbstractString)\n",
    "    valor = @ccall getenv(var::Cstring)::Cstring\n",
    "    if valor == C_NULL\n",
    "        error(\"getenv:Variable de ambiente no econtrada: \", var)\n",
    "    end\n",
    "    return unsafe_string\n",
    "end\n",
    "valorVariable(\"PWD\")"
   ]
  }
 ],
 "metadata": {
  "kernelspec": {
   "display_name": "Julia 1.10.4",
   "language": "julia",
   "name": "julia-1.10"
  },
  "language_info": {
   "file_extension": ".jl",
   "mimetype": "application/julia",
   "name": "julia",
   "version": "1.10.4"
  }
 },
 "nbformat": 4,
 "nbformat_minor": 5
}
