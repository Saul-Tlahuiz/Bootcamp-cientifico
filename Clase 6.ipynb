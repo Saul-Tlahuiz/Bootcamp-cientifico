{
 "cells": [
  {
   "cell_type": "markdown",
   "id": "62ec2d7c",
   "metadata": {},
   "source": [
    "# Julia Orientado a Objetos"
   ]
  },
  {
   "cell_type": "code",
   "execution_count": null,
   "id": "20b7c41b",
   "metadata": {},
   "outputs": [],
   "source": [
    "#= Una sentencia es cualquier instruccion valida de julia por ejemplo:\n",
    "a = 23\n",
    "while condicion tarea end\n",
    "if condicion tarea end\n",
    "una vez que ya se asigno un valor a una variable ya no se puede modificar ese valor \n",
    "=#"
   ]
  },
  {
   "cell_type": "markdown",
   "id": "84bdf10f",
   "metadata": {},
   "source": [
    "### Tipos de Enteros\n",
    "  Enteros signados: Int8,Int16,int32,Int64,Int128\n",
    "  \n",
    "  Sin signo: UInt8,UInt16,UInt32,UInt64,UInt128"
   ]
  },
  {
   "cell_type": "code",
   "execution_count": 2,
   "id": "62f03440",
   "metadata": {},
   "outputs": [
    {
     "name": "stdout",
     "output_type": "stream",
     "text": [
      "UInt8\n",
      "168\n"
     ]
    }
   ],
   "source": [
    "num1::Int8 = -120\n",
    "num2::UInt8 = 32\n",
    "num3 = num1 + num2\n",
    "println(typeof(num3))\n",
    "println(num3)\n",
    "#solo usar enteros signados con signados y de forma analoga para los numeros sin signo"
   ]
  },
  {
   "cell_type": "code",
   "execution_count": 3,
   "id": "7b5c145a",
   "metadata": {},
   "outputs": [
    {
     "name": "stdout",
     "output_type": "stream",
     "text": [
      "Int16\n",
      "-88\n"
     ]
    }
   ],
   "source": [
    "num4::Int8 = -120\n",
    "num5::Int16 = 32\n",
    "num6 = num4 + num5\n",
    "println(typeof(num6))\n",
    "println(num6)"
   ]
  },
  {
   "cell_type": "code",
   "execution_count": 4,
   "id": "79d7f887",
   "metadata": {},
   "outputs": [
    {
     "data": {
      "text/plain": [
       "1.23451e23"
      ]
     },
     "execution_count": 4,
     "metadata": {},
     "output_type": "execute_result"
    }
   ],
   "source": [
    "#=\n",
    "Operaciones con flotantes\n",
    "=#\n",
    "real1::Float32 = 1.23451e23"
   ]
  },
  {
   "cell_type": "code",
   "execution_count": 5,
   "id": "666219a8",
   "metadata": {},
   "outputs": [
    {
     "data": {
      "text/plain": [
       "-1.46e-128"
      ]
     },
     "execution_count": 5,
     "metadata": {},
     "output_type": "execute_result"
    }
   ],
   "source": [
    "real2::Float64 = -1.46e-128"
   ]
  },
  {
   "cell_type": "code",
   "execution_count": 13,
   "id": "3953aa88",
   "metadata": {},
   "outputs": [
    {
     "name": "stdout",
     "output_type": "stream",
     "text": [
      "Hola mundo\n",
      "Holamundo\n",
      "Holamundo\n"
     ]
    }
   ],
   "source": [
    "# Cadenas\n",
    "cadena1 = \"Hola\"\n",
    "cadena2 = \"mundo\"\n",
    "cadena3 = \"$cadena1 $cadena2\"\n",
    "println(cadena3)\n",
    "cadena4 = cadena1 * cadena2\n",
    "println(cadena4) \n",
    "cadena5 = string(cadena1,cadena2)\n",
    "println(cadena5)"
   ]
  },
  {
   "cell_type": "code",
   "execution_count": null,
   "id": "f86ff1c1",
   "metadata": {},
   "outputs": [],
   "source": [
    "# Condicionales\n",
    "if condicion #del tipo booleano\n",
    "    sentencias\n",
    "elseif condicion2\n",
    "    sentencias\n",
    "else\n",
    "    sentencias\n",
    "end"
   ]
  },
  {
   "cell_type": "markdown",
   "id": "1911526a",
   "metadata": {},
   "source": [
    "\n",
    "Ciclos controlados por contador\n",
    "\n",
    "Conocemos el # de iteraciones a realizar\n",
    "\n",
    "-for\n",
    "\n",
    "-do\n",
    "\n",
    "Ciclos controlados por centinela\n",
    "\n",
    "-No conoces el # de iteraciones pero existe una condicion que termina el ciclo\n",
    "\n",
    "Existe una variable centinela o bandera que se activa cuando se cumple la condicion de paro\n",
    "\n",
    "-While\n"
   ]
  },
  {
   "cell_type": "code",
   "execution_count": 26,
   "id": "9a07e599",
   "metadata": {},
   "outputs": [
    {
     "name": "stdout",
     "output_type": "stream",
     "text": [
      "1.0\n",
      "2.0\n",
      "3.0\n",
      "4.0\n",
      "5.0\n",
      "6.0\n",
      "7.0\n",
      "8.0\n",
      "9.0\n",
      "10.0\n"
     ]
    }
   ],
   "source": [
    "for i=1:10\n",
    "    println(i/length(i))\n",
    "end"
   ]
  },
  {
   "cell_type": "code",
   "execution_count": 34,
   "id": "dc54c4b5",
   "metadata": {},
   "outputs": [
    {
     "name": "stdout",
     "output_type": "stream",
     "text": [
      "Krod"
     ]
    },
    {
     "ename": "LoadError",
     "evalue": "MethodError: no method matching +(::String, ::Int64)\n\n\u001b[0mClosest candidates are:\n\u001b[0m  +(::Any, ::Any, \u001b[91m::Any\u001b[39m, \u001b[91m::Any...\u001b[39m)\n\u001b[0m\u001b[90m   @\u001b[39m \u001b[90mBase\u001b[39m \u001b[90m\u001b[4moperators.jl:587\u001b[24m\u001b[39m\n\u001b[0m  +(\u001b[91m::Complex{Bool}\u001b[39m, ::Real)\n\u001b[0m\u001b[90m   @\u001b[39m \u001b[90mBase\u001b[39m \u001b[90m\u001b[4mcomplex.jl:320\u001b[24m\u001b[39m\n\u001b[0m  +(\u001b[91m::Missing\u001b[39m, ::Number)\n\u001b[0m\u001b[90m   @\u001b[39m \u001b[90mBase\u001b[39m \u001b[90m\u001b[4mmissing.jl:123\u001b[24m\u001b[39m\n\u001b[0m  ...\n",
     "output_type": "error",
     "traceback": [
      "MethodError: no method matching +(::String, ::Int64)\n\n\u001b[0mClosest candidates are:\n\u001b[0m  +(::Any, ::Any, \u001b[91m::Any\u001b[39m, \u001b[91m::Any...\u001b[39m)\n\u001b[0m\u001b[90m   @\u001b[39m \u001b[90mBase\u001b[39m \u001b[90m\u001b[4moperators.jl:587\u001b[24m\u001b[39m\n\u001b[0m  +(\u001b[91m::Complex{Bool}\u001b[39m, ::Real)\n\u001b[0m\u001b[90m   @\u001b[39m \u001b[90mBase\u001b[39m \u001b[90m\u001b[4mcomplex.jl:320\u001b[24m\u001b[39m\n\u001b[0m  +(\u001b[91m::Missing\u001b[39m, ::Number)\n\u001b[0m\u001b[90m   @\u001b[39m \u001b[90mBase\u001b[39m \u001b[90m\u001b[4mmissing.jl:123\u001b[24m\u001b[39m\n\u001b[0m  ...\n",
      "",
      "Stacktrace:",
      " [1] top-level scope",
      "   @ .\\In[34]:8"
     ]
    }
   ],
   "source": [
    "letras23 = []\n",
    "for i in cadena4\n",
    "    push!(letras23,i)\n",
    "end\n",
    "letras23[5] = \"M\"\n",
    "#println(letras23)\n",
    "for i in letras23\n",
    "    print(i+3)\n",
    "end"
   ]
  },
  {
   "cell_type": "code",
   "execution_count": 42,
   "id": "fc0c5264",
   "metadata": {},
   "outputs": [
    {
     "name": "stdout",
     "output_type": "stream",
     "text": [
      "7\n",
      "8\n",
      "9\n",
      "10\n"
     ]
    }
   ],
   "source": [
    "for i = 1:10\n",
    "    if i < 7\n",
    "        continue\n",
    "    end\n",
    "    println(i)\n",
    "end"
   ]
  },
  {
   "cell_type": "code",
   "execution_count": 38,
   "id": "31a53864",
   "metadata": {},
   "outputs": [
    {
     "name": "stdout",
     "output_type": "stream",
     "text": [
      "5.0e33\n",
      "2.5e33\n",
      "1.25e33\n",
      "6.25e32\n",
      "3.125e32\n",
      "1.5625e32\n",
      "7.8125e31\n",
      "3.90625e31\n",
      "1.953125e31\n",
      "9.765625e30\n",
      "4.8828125e30\n",
      "2.44140625e30\n",
      "1.220703125e30\n",
      "6.103515625e29\n",
      "3.0517578125e29\n",
      "1.52587890625e29\n",
      "7.62939453125e28\n",
      "3.814697265625e28\n",
      "1.9073486328125e28\n",
      "9.5367431640625e27\n",
      "4.76837158203125e27\n",
      "2.384185791015625e27\n",
      "1.1920928955078124e27\n",
      "5.960464477539062e26\n",
      "2.980232238769531e26\n",
      "1.4901161193847655e26\n",
      "7.450580596923828e25\n",
      "3.725290298461914e25\n",
      "1.862645149230957e25\n",
      "9.313225746154785e24\n",
      "4.6566128730773923e24\n",
      "2.3283064365386962e24\n",
      "1.1641532182693481e24\n",
      "5.8207660913467404e23\n",
      "2.9103830456733702e23\n",
      "1.4551915228366851e23\n",
      "7.2759576141834255e22\n",
      "3.6379788070917128e22\n",
      "1.8189894035458564e22\n",
      "9.094947017729282e21\n",
      "4.547473508864641e21\n",
      "2.2737367544323205e21\n",
      "1.1368683772161602e21\n",
      "5.684341886080801e20\n",
      "2.8421709430404006e20\n",
      "1.4210854715202003e20\n",
      "7.1054273576010015e19\n",
      "3.5527136788005007e19\n",
      "1.7763568394002504e19\n",
      "8.881784197001252e18\n",
      "4.440892098500626e18\n",
      "2.220446049250313e18\n",
      "1.1102230246251565e18\n",
      "5.5511151231257824e17\n",
      "2.7755575615628912e17\n",
      "1.3877787807814456e17\n",
      "6.938893903907228e16\n",
      "3.469446951953614e16\n",
      "1.734723475976807e16\n",
      "8.673617379884035e15\n",
      "4.3368086899420175e15\n",
      "2.1684043449710088e15\n",
      "1.0842021724855044e15\n",
      "5.421010862427522e14\n",
      "2.710505431213761e14\n",
      "1.3552527156068805e14\n",
      "6.776263578034402e13\n",
      "3.388131789017201e13\n",
      "1.6940658945086006e13\n",
      "8.470329472543003e12\n",
      "4.2351647362715015e12\n",
      "2.1175823681357507e12\n",
      "1.0587911840678754e12\n",
      "5.293955920339377e11\n",
      "2.6469779601696884e11\n",
      "1.3234889800848442e11\n",
      "6.617444900424221e10\n",
      "3.3087224502121105e10\n",
      "1.6543612251060553e10\n",
      "8.271806125530276e9\n",
      "4.135903062765138e9\n",
      "2.067951531382569e9\n",
      "1.0339757656912845e9\n",
      "5.1698788284564227e8\n",
      "2.5849394142282113e8\n",
      "1.2924697071141057e8\n",
      "6.462348535570528e7\n",
      "3.231174267785264e7\n",
      "1.615587133892632e7\n",
      "8.07793566946316e6\n",
      "4.03896783473158e6\n",
      "2.01948391736579e6\n",
      "1.009741958682895e6\n",
      "504870.9793414475\n",
      "252435.48967072376\n",
      "126217.74483536188\n",
      "63108.87241768094\n",
      "31554.43620884047\n",
      "15777.218104420235\n",
      "7888.609052210118\n",
      "3944.304526105059\n",
      "1972.1522630525294\n",
      "986.0761315262647\n",
      "493.03806576313235\n",
      "246.51903288156618\n",
      "123.25951644078309\n",
      "61.629758220391544\n",
      "30.814879110195772\n",
      "15.407439555097886\n",
      "7.703719777548943\n",
      "3.8518598887744715\n",
      "1.9259299443872357\n",
      "0.9629649721936179\n",
      "0.48148248609680894\n",
      "0.24074124304840447\n",
      "0.12037062152420223\n",
      "0.06018531076210112\n",
      "0.03009265538105056\n",
      "0.01504632769052528\n",
      "0.00752316384526264\n",
      "0.00376158192263132\n",
      "0.00188079096131566\n",
      "0.00094039548065783\n",
      "0.000470197740328915\n",
      "0.0002350988701644575\n",
      "0.00011754943508222874\n",
      "5.877471754111437e-5\n",
      "2.9387358770557186e-5\n",
      "1.4693679385278593e-5\n",
      "7.3468396926392965e-6\n",
      "3.6734198463196483e-6\n",
      "1.8367099231598241e-6\n",
      "9.183549615799121e-7\n"
     ]
    }
   ],
   "source": [
    "tol = 0.000001\n",
    "centinela = 1e34\n",
    "while centinela > tol\n",
    "    centinela = centinela/2.0\n",
    "    println(centinela)\n",
    "end\n",
    "# siempre que se tenga una condicion con numero reales intentar no usar el igual para que se cumpla la condicion\n",
    "# ya que puede que no se cumpla y el ciclo nunca termine"
   ]
  },
  {
   "cell_type": "code",
   "execution_count": 39,
   "id": "adb6c217",
   "metadata": {},
   "outputs": [
    {
     "name": "stdout",
     "output_type": "stream",
     "text": [
      "1,\n",
      "2,\n",
      "3,\n",
      "4,\n",
      "5,\n",
      "6,\n",
      "7,\n",
      "8,\n",
      "9,\n",
      "10,\n",
      "11,\n",
      "12,\n",
      "13,\n",
      "14,\n",
      "15,\n",
      "16,\n",
      "17,\n",
      "18,\n",
      "19,\n",
      "20,\n",
      "21,\n",
      "22,\n",
      "23,\n",
      "24,\n",
      "25,\n",
      "26,\n",
      "27,\n",
      "28,\n",
      "29,\n",
      "30,\n",
      "31,\n",
      "32,\n",
      "33,\n",
      "34,\n",
      "35,\n",
      "36,\n",
      "37,\n",
      "38,\n",
      "39,\n",
      "40,\n",
      "41,\n",
      "42,\n",
      "43,\n",
      "44,\n",
      "45,\n",
      "46,\n",
      "47,\n",
      "48,\n",
      "49,\n",
      "50,\n",
      "51,\n",
      "52,\n",
      "53,\n",
      "54,\n",
      "55,\n",
      "56,\n",
      "57,\n",
      "58,\n",
      "59,\n",
      "60,\n",
      "61,\n",
      "62,\n",
      "63,\n",
      "64,\n",
      "65,\n",
      "66,\n",
      "67,\n",
      "68,\n",
      "69,\n",
      "70,\n",
      "71,\n",
      "72,\n",
      "73,\n",
      "74,\n",
      "75,\n",
      "76,\n",
      "77,\n",
      "78,\n",
      "79,\n",
      "80,\n",
      "81,\n",
      "82,\n",
      "83,\n",
      "84,\n",
      "85,\n",
      "86,\n",
      "87,\n",
      "88,\n",
      "89,\n",
      "90,\n",
      "91,\n",
      "92,\n",
      "93,\n",
      "94,\n",
      "95,\n",
      "96,\n",
      "97,\n",
      "98,\n",
      "99,\n",
      "100,\n"
     ]
    }
   ],
   "source": [
    "contador = 0\n",
    "while contador < 100\n",
    "    contador += 1\n",
    "    println(\"$contador,\")\n",
    "end"
   ]
  },
  {
   "cell_type": "code",
   "execution_count": null,
   "id": "5a246d08",
   "metadata": {},
   "outputs": [],
   "source": []
  }
 ],
 "metadata": {
  "kernelspec": {
   "display_name": "Julia 1.10.4",
   "language": "julia",
   "name": "julia-1.10"
  },
  "language_info": {
   "file_extension": ".jl",
   "mimetype": "application/julia",
   "name": "julia",
   "version": "1.10.4"
  }
 },
 "nbformat": 4,
 "nbformat_minor": 5
}
