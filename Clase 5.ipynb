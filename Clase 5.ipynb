{
 "cells": [
  {
   "cell_type": "code",
   "execution_count": 13,
   "id": "08ac1ac2",
   "metadata": {},
   "outputs": [
    {
     "name": "stdout",
     "output_type": "stream",
     "text": [
      "Introduce un numero entre el intervalo [-π,π] para calcular el seno\n",
      "stdin> 2.12\n",
      "El numero 2.12 esta dentro del intervalo [-π,π]\n",
      "El seno del numero 2.12 es: 0.8529396909923989\n"
     ]
    }
   ],
   "source": [
    "#=\n",
    "Pseudo codigo para el calculo del seno de un numero\n",
    "Datos de entrada:\n",
    "x ∈ [-π,π]\n",
    "x_0 = x/1024\n",
    "y = x_0*x_0\n",
    "Dato de salida: x -> real\n",
    "Procedimiento\n",
    "for i = 1:10\n",
    "  y = 4*y*(1-y)\n",
    "end\n",
    "s = 1 si x > 0\n",
    "s = -1 si x < 0\n",
    "sen(x) = s*sqrt(y)\n",
    "=#\n",
    "function intervalo(x)\n",
    "    if x >= -π && x <= π\n",
    "        println(\"El numero $x esta dentro del intervalo [-π,π]\")\n",
    "    else\n",
    "        println(\"El numero $x  no esta dentro del intervalo\")\n",
    "    end\n",
    "end\n",
    "\n",
    "function signo(x)\n",
    "    if x > 0\n",
    "        return 1\n",
    "    else \n",
    "        return -1\n",
    "    end\n",
    "end\n",
    "\n",
    "function seno(x)\n",
    "    x_0 = x/1024\n",
    "    y = x_0*x_0\n",
    "    for i=1:10\n",
    "        y = 4*y*(1-y)\n",
    "    end\n",
    "    resultado = y\n",
    "    return resultado\n",
    "end\n",
    "function main()\n",
    "    println(\"Introduce un numero entre el intervalo [-π,π] para calcular el seno\")\n",
    "    numero = parse(Float64,readline())\n",
    "    evaluacion = intervalo(numero)\n",
    "    seno_calculado = sqrt(seno(numero))*signo(numero)\n",
    "    println(\"El seno del numero $numero es: $seno_calculado\")\n",
    "end\n",
    "main()"
   ]
  },
  {
   "cell_type": "code",
   "execution_count": 14,
   "id": "6abbbf94",
   "metadata": {},
   "outputs": [
    {
     "data": {
      "text/plain": [
       "0.8529404815528762"
      ]
     },
     "execution_count": 14,
     "metadata": {},
     "output_type": "execute_result"
    }
   ],
   "source": [
    "sin(2.12)"
   ]
  },
  {
   "cell_type": "code",
   "execution_count": null,
   "id": "c914604a",
   "metadata": {},
   "outputs": [],
   "source": [
    "#=\n",
    "Codigo para crear la funcion que calcula el calor\n",
    "Datos para resolver la ecuacion\n",
    "Q(x),q(x),h_izq,h_der\n",
    "x ∈ {x_izq,...,x_der}\n",
    "calcular c1,c2,Q\n",
    "construir c0=-(c1+c2)\n",
    "B = Q-frontera\n",
    "Resolver el sistema\n",
    "Ah = B\n",
    "############################################\n",
    "Algoritmo de thomas \n",
    "Datos de entrada\n",
    "d0,d1,d2,b\n",
    "para i = 2,..,n\n",
    " α = \n",
    " d0_i =\n",
    " bi = \n",
    "end\n",
    "\n",
    "α = d1_i/d0_i-1\n",
    "d0_i-αd2_i -> d0_i\n",
    "bi-αb_i-1->bi\n",
    "x_n = b_n/d0_n\n",
    "para i = n-1,n-1,...,1\n",
    "x_i = \n",
    "end\n",
    "return x\n",
    "x_n = b_n/d0_n\n",
    "i = n-1,n-2,....,1\n",
    "x_i = bi-d2_iX_i+1/d0_i\n",
    "=#"
   ]
  },
  {
   "cell_type": "code",
   "execution_count": 3,
   "id": "1cbfce0e",
   "metadata": {},
   "outputs": [
    {
     "name": "stdout",
     "output_type": "stream",
     "text": [
      "La solución del sistema es: [1.0047846889952154, 0.9808612440191387, 1.07177033492823, 1.7320574162679425]\n"
     ]
    }
   ],
   "source": [
    "#=  \n",
    "Algoritmo de Thomas:\n",
    "    El algorimo de Thomas resuelve un sistema de ecuaciones tridiagonales Ax = d.\n",
    "    a: subdiagonal (vector de tamaño n-1)\n",
    "    b: diagonal principal (vector de tamaño n)\n",
    "    c: superdiagonal (vector de tamaño n-1)\n",
    "    d: vector de términos independientes (vector de tamaño n)\n",
    "    Devuelve el vector solución x.\n",
    "\n",
    "Datos de entrada\n",
    "a,b,c,d -> Cada uno es un vector con numeros reales en cada entrada y se pueden ir modificando\n",
    "Datos de Salida\n",
    "x -> vector con las soluciones para el sistema(numeros reales)\n",
    "Ejemplo de prueba:\n",
    "a = [1.0, 1.0, 1.0]   # subdiagonal\n",
    "b = [4.0, 4.0, 4.0, 4.0]  # diagonal principal\n",
    "c = [1.0, 1.0, 1.0]   # superdiagonal\n",
    "d = [5.0, 6.0, 7.0, 8.0]  # términos independientes\n",
    "Solucion\n",
    "La solución del sistema es: [1.0047846889952154, 0.9808612440191387, 1.07177033492823, 1.7320574162679425]\n",
    "=#\n",
    "\n",
    "function thomas(a, b, c, d)\n",
    "    n = length(b)\n",
    "    \n",
    "    # Inicialización de los vectores\n",
    "    cp = Vector{Float64}(undef, n-1)\n",
    "    dp = Vector{Float64}(undef, n)\n",
    "    \n",
    "    # Modificación de los vectores a y b\n",
    "    cp[1] = c[1] / b[1]\n",
    "    dp[1] = d[1] / b[1]\n",
    "    \n",
    "    for i in 2:(n-1)\n",
    "        denom = b[i] - a[i-1] * cp[i-1]\n",
    "        cp[i] = c[i] / denom\n",
    "        dp[i] = (d[i] - a[i-1] * dp[i-1]) / denom\n",
    "    end\n",
    "    \n",
    "    dp[n] = (d[n] - a[n-1] * dp[n-1]) / (b[n] - a[n-1] * cp[n-1])\n",
    "    \n",
    "    # Sustitución hacia atrás\n",
    "    x = Vector{Float64}(undef, n)\n",
    "    x[n] = dp[n]\n",
    "    \n",
    "    for i in (n-1):-1:1\n",
    "        x[i] = dp[i] - cp[i] * x[i+1]\n",
    "    end\n",
    "    return x\n",
    "end\n",
    "\n",
    "# Ejemplo de uso:\n",
    "a = [1.0, 1.0, 1.0]   # subdiagonal\n",
    "b = [4.0, 4.0, 4.0, 4.0]  # diagonal principal\n",
    "c = [1.0, 1.0, 1.0]   # superdiagonal\n",
    "d = [5.0, 6.0, 7.0, 8.0]  # términos independientes\n",
    "\n",
    "x = thomas(a, b, c, d)\n",
    "println(\"La solución del sistema es: \", x)\n"
   ]
  },
  {
   "cell_type": "code",
   "execution_count": 2,
   "id": "a2eea684",
   "metadata": {},
   "outputs": [
    {
     "ename": "LoadError",
     "evalue": "UndefVarError: `int` not defined",
     "output_type": "error",
     "traceback": [
      "UndefVarError: `int` not defined",
      "",
      "Stacktrace:",
      " [1] top-level scope",
      "   @ In[2]:21"
     ]
    }
   ],
   "source": [
    "#=\n",
    "Codigo para la ecuacion del calor tomando el tiempo como variable\n",
    "=#"
   ]
  },
  {
   "cell_type": "code",
   "execution_count": null,
   "id": "6d993898",
   "metadata": {},
   "outputs": [],
   "source": []
  }
 ],
 "metadata": {
  "kernelspec": {
   "display_name": "Julia 1.10.4",
   "language": "julia",
   "name": "julia-1.10"
  },
  "language_info": {
   "file_extension": ".jl",
   "mimetype": "application/julia",
   "name": "julia",
   "version": "1.10.4"
  }
 },
 "nbformat": 4,
 "nbformat_minor": 5
}
