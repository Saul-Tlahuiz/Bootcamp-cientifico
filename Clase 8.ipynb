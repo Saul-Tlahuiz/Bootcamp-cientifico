{
 "cells": [
  {
   "cell_type": "code",
   "execution_count": 8,
   "id": "0ba0a772",
   "metadata": {},
   "outputs": [
    {
     "data": {
      "text/plain": [
       "hablar (generic function with 1 method)"
      ]
     },
     "execution_count": 8,
     "metadata": {},
     "output_type": "execute_result"
    }
   ],
   "source": [
    "mutable struct Mascotas\n",
    "    tipo::String\n",
    "    nombre::String\n",
    "    edad::UInt16\n",
    "    vacunadoQ::Bool\n",
    "    ambrientoQ::Bool\n",
    "end\n",
    "\n",
    "# Vamos a construir los getter\n",
    "function get_atributos(una_mascota::Mascotas)\n",
    "    una_mascota.tipo,una_mascota.nombre,una_mascota.edad\n",
    "end\n",
    "\n",
    "# setter\n",
    "function set_atributos(una_mascota::Mascotas,tipo,nombre,edad,vacunado,ambriento)\n",
    "    una_mascota.tipo = tipo\n",
    "    una_mascota.nombre = nombre\n",
    "    una_mascota.edad = edad\n",
    "    una_mascota.vacunadoQ = vacunado\n",
    "    una_mascota.ambrientoQ = ambriento\n",
    "end\n",
    "\n",
    "function set_atributosE(una_mascota::Mascotas,atributos::Dict)\n",
    "    for i ∈ atributos\n",
    "        if i[1] == \"tipo\"\n",
    "            una_mascota.tipo = 1[2]\n",
    "        elseif i[1] == \"nombre\"\n",
    "            una_mascota.nombre = i[2]\n",
    "        elseif i[1] == \"edad\"\n",
    "            una_mascota.edad = UInt16(i[2])\n",
    "        elseif i[1] == \"vacunadoQ\"\n",
    "            una_mascota.vacunadoQ = i[2]\n",
    "        elseif i[1] == \"ambrientoQ\"\n",
    "            una_mascota.ambrientoQ = i[2]\n",
    "        end\n",
    "    end\n",
    "end\n",
    "\n",
    "# método display\n",
    "function muestraMascota(una_mascota)\n",
    "    \"Mi nombre es: $(una_mascota.nombre),soy un $(una_mascota.tipo) y tengo $(una_mascota.edad) años\"\n",
    "end\n",
    "\n",
    "\n",
    "function comer(una_mascota::Mascotas)\n",
    "    if ambrientoQ\n",
    "        println(\"Come el /la $(una_mascota.tipo)\")\n",
    "        una_mascota.ambrientoQ = false\n",
    "    else\n",
    "        println(\"La mascota esta satisfecha\")\n",
    "    end\n",
    "end\n",
    "\n",
    "function hablar(una_mascota::Mascotas,mensaje)\n",
    "    if !(una_mascota.tipo == \"pez\" || una_mascota.tipo == \"tarantula\")\n",
    "        println(mensaje)\n",
    "    else\n",
    "        println(\"No hablo con extraños\")\n",
    "    end\n",
    "end "
   ]
  },
  {
   "cell_type": "code",
   "execution_count": 12,
   "id": "3a234f70",
   "metadata": {},
   "outputs": [
    {
     "name": "stdout",
     "output_type": "stream",
     "text": [
      "Guau\n",
      "Miauuu\n",
      "Cuac\n",
      "(\"Perro\", \"Solovino\", 0x0001)\n",
      "Mi nombre es: Naranjoso,soy un Gato y tengo 1 años\n",
      "Mi nombre es: patricio,soy un Pato y tengo 1 años\n"
     ]
    }
   ],
   "source": [
    "function main()\n",
    "    solovino = Mascotas(\"Perro\",\"Solovino\",1,true,false)\n",
    "    naranjoso = Mascotas(\"Gato\",\"Naranjoso\",1,true,false)\n",
    "    patricio = Mascotas(\"Pato\",\"Patricio\",1,true,false)\n",
    "    hablar(solovino,\"Guau\")\n",
    "    hablar(naranjoso,\"Miauuu\")\n",
    "    hablar(patricio,\"Cuac\")\n",
    "    println(get_atributos(solovino))\n",
    "    println(muestraMascota(naranjoso))\n",
    "    set_atributosE(patricio,Dict(\"nombre\"=>\"patricio\",\"vacunadoQ\" => true))\n",
    "    println(muestraMascota(patricio))\n",
    "end\n",
    "main()"
   ]
  },
  {
   "cell_type": "code",
   "execution_count": 3,
   "id": "3513b5fa",
   "metadata": {},
   "outputs": [
    {
     "data": {
      "text/plain": [
       "Elemento(\"carbono\", particula(vect3d(1, 1, 1), 1.0e-45, vect3d(1, 1, 1), vect3d(1, 1, 1)), 12)"
      ]
     },
     "execution_count": 3,
     "metadata": {},
     "output_type": "execute_result"
    }
   ],
   "source": [
    "mutable struct vect3d\n",
    "    x::Number\n",
    "    y::Number\n",
    "    z::Number\n",
    "end\n",
    "\n",
    "function modulov3(un_vector::vect3d)\n",
    "    sqrt(un_vector.x*un_vector.x+un_vector.y*un_vector.y+un_vector.z*un_vector.z)\n",
    "end\n",
    "\n",
    "function suma(vector1::vect3d,vector2::vect3d)\n",
    "    salida = vect3d(0.0,0.0,0.0)\n",
    "    salida.x = vector1.x + vector2.x\n",
    "    salida.y = vector1.y + vector2.y\n",
    "    salida.z = vector1.z + vector2.z\n",
    "    return salida\n",
    "end\n",
    "\n",
    "mutable struct particula\n",
    "    posicion::vect3d\n",
    "    masa::Float64\n",
    "    velocidad::vect3d\n",
    "    aceleracion::vect3d\n",
    "end\n",
    "\n",
    "function suma(part1::particula,part2::particula)\n",
    "    salida = vect3d(0.0,0.0,0.0)\n",
    "    salida.x = part1.posicion.x + part2.posicion.x\n",
    "    salida.y = part1.posicion.y + part2.posicion.y\n",
    "    salida.z = part1.posicion.z + part2.posicion.z\n",
    "    return salida\n",
    "end\n",
    "\n",
    "\n",
    "mutable struct Elemento\n",
    "    nombre::String\n",
    "    caracteristicas::particula\n",
    "    numero_atomico::Int\n",
    "end\n",
    "#primero pasamos una particula\n",
    "dato = Elemento(\"carbono\",particula(vect3d(1,1,1),1e-45,vect3d(1,1,1),vect3d(1,1,1)),12)\n",
    "prod_ini = vect3d(1,1,1)\n",
    "particula_tmp = particula(prod_ini,1e-45,prod_ini)\n",
    "\n",
    "test1 = vect3d(1,1,1)\n",
    "test2 = vect3d(2,2,2)\n",
    "\n",
    "println(suma(test1,tet2))\n",
    "println(suma(mi_atomo.caracteristicas))"
   ]
  },
  {
   "cell_type": "code",
   "execution_count": 5,
   "id": "143617a0",
   "metadata": {},
   "outputs": [
    {
     "data": {
      "text/plain": [
       "10"
      ]
     },
     "execution_count": 5,
     "metadata": {},
     "output_type": "execute_result"
    }
   ],
   "source": [
    "mutable struct ejemplo\n",
    "    atrib1\n",
    "    atrib2\n",
    "    metodo1\n",
    "    metodo2\n",
    "    function ejemplo(atrib1,atrib2)\n",
    "        this=new()\n",
    "        this.atrib1 = atrib1\n",
    "        this.atrib2 = atrib2\n",
    "        this.metodo1 = function()\n",
    "            return this.atrib1\n",
    "        end \n",
    "        this.metodo2 = function(a,b)\n",
    "            this.atrib1 = a\n",
    "            this.atrib2 = b\n",
    "        end\n",
    "        return this\n",
    "    end\n",
    "end\n",
    "\n",
    "ej1 = ejemplo(10,10)\n",
    "ej1.metodo1()\n",
    "#ej2.metodo2()"
   ]
  },
  {
   "cell_type": "code",
   "execution_count": 7,
   "id": "052d8659",
   "metadata": {},
   "outputs": [
    {
     "name": "stdout",
     "output_type": "stream",
     "text": [
      "Pair{String, String}\n",
      "tipo\n",
      "Pair{String, String}\n",
      "nombre\n"
     ]
    }
   ],
   "source": [
    "# veamos si un diccionario es iterable\n",
    "my_dict = Dict(\"tipo\"=>\"gato\",\"nombre\"=>\"Patito\")\n",
    "for i ∈ my_dict\n",
    "    println(typeof(i))\n",
    "    println(i[1]) #veamos si es indexable\n",
    "end"
   ]
  },
  {
   "cell_type": "code",
   "execution_count": 6,
   "id": "259a2585",
   "metadata": {},
   "outputs": [
    {
     "name": "stdout",
     "output_type": "stream",
     "text": [
      "3 4\n"
     ]
    }
   ],
   "source": [
    "function generica(n::Float32)\n",
    "    println(n)\n",
    "end\n",
    "\n",
    "function generica(n::Int,m::Int)\n",
    "    println(\"$n $m\")\n",
    "end\n",
    "\n",
    "generica(3,4)"
   ]
  },
  {
   "cell_type": "code",
   "execution_count": 1,
   "id": "20354701",
   "metadata": {},
   "outputs": [
    {
     "ename": "LoadError",
     "evalue": "invalid redefinition of constant Main.Perro",
     "output_type": "error",
     "traceback": [
      "invalid redefinition of constant Main.Perro",
      "",
      "Stacktrace:",
      " [1] top-level scope",
      "   @ In[1]:15"
     ]
    }
   ],
   "source": [
    "abstract type Mascota2 end\n",
    "\n",
    "mutable struct Perro <: Mascota2\n",
    "    nombre::String\n",
    "    edad::Int\n",
    "end\n",
    "\n",
    "mutable struct Gato <: Mascota2\n",
    "    nombre::String\n",
    "    edad::Int\n",
    "end\n",
    "\n",
    "ladrar(un_perro::Perro) = println(\"Guau\")\n",
    "maullar(un_gato::Gato) = println(\"Miau\")\n",
    "\n",
    "hablar(una_mascota::Mascota2) = \"hace algo\"\n",
    "hablar(un_perro::Perro) = ladrar(un_perro)\n",
    "hablar(un_gato::Gato) = maullar(un_gato)"
   ]
  },
  {
   "cell_type": "code",
   "execution_count": 16,
   "id": "7f0f0204",
   "metadata": {},
   "outputs": [
    {
     "name": "stdout",
     "output_type": "stream",
     "text": [
      "Guau\n",
      "Miau\n",
      "Miau\n",
      "Guau\n"
     ]
    }
   ],
   "source": [
    "fido = Perro(\"Fido\",5)\n",
    "ladrar(fido)\n",
    "gato = Gato(\"Garfield\",20)\n",
    "maullar(gato)\n",
    "hablar(gato)\n",
    "hablar(fido)"
   ]
  },
  {
   "cell_type": "code",
   "execution_count": 1,
   "id": "cf280fa5",
   "metadata": {},
   "outputs": [
    {
     "ename": "LoadError",
     "evalue": "MethodError: no method matching Perro(::String, ::Int64, ::String)",
     "output_type": "error",
     "traceback": [
      "MethodError: no method matching Perro(::String, ::Int64, ::String)",
      "",
      "Stacktrace:",
      " [1] top-level scope",
      "   @ In[1]:16"
     ]
    }
   ],
   "source": [
    "Base.@kwdef struct Mascotas3Propiedades\n",
    "    nombre::String\n",
    "    edad::Int\n",
    "end\n",
    "\n",
    "abstract type Mascota3 end\n",
    "\n",
    "mutable struct Perro <: Mascota3\n",
    "    comun::Mascotas3Propiedades\n",
    "    color::String\n",
    "    function Perro(;nombre::String,edad::Int, color::String)\n",
    "        return new(Mascotas3Propiedades(nombre,edad),color)\n",
    "    end\n",
    "end\n",
    "\n",
    "mi_perro = Perro(\"Fido\",4,\"Cafe\")\n",
    "println(mi_perro)\n",
    "\n",
    "#mutable struct Gato <: Mascota3\n",
    " #   nombre::String\n",
    "  #  edad::Int\n",
    "#end"
   ]
  }
 ],
 "metadata": {
  "kernelspec": {
   "display_name": "Julia 1.10.4",
   "language": "julia",
   "name": "julia-1.10"
  },
  "language_info": {
   "file_extension": ".jl",
   "mimetype": "application/julia",
   "name": "julia",
   "version": "1.10.4"
  }
 },
 "nbformat": 4,
 "nbformat_minor": 5
}
