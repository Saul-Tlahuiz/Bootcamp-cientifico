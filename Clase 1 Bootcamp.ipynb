{
 "cells": [
  {
   "cell_type": "code",
   "execution_count": 3,
   "id": "7d6c882d",
   "metadata": {},
   "outputs": [
    {
     "name": "stdout",
     "output_type": "stream",
     "text": [
      "Hola mundo\n"
     ]
    }
   ],
   "source": [
    "#Hola mundo en julia\n",
    "println(\"Hola mundo\")"
   ]
  },
  {
   "cell_type": "code",
   "execution_count": 7,
   "id": "75fd40a3",
   "metadata": {},
   "outputs": [
    {
     "data": {
      "text/plain": [
       "78.53981633974483"
      ]
     },
     "execution_count": 7,
     "metadata": {},
     "output_type": "execute_result"
    }
   ],
   "source": [
    "# para escribir pi con su representacion simbolica usamos el comando \\pi y presionamos tabulador\n",
    "π*5*5"
   ]
  },
  {
   "cell_type": "raw",
   "id": "5ffa6953",
   "metadata": {},
   "source": [
    "Reglas de la programacion:\n",
    "1.80% pensar, escribir, usar el lapiz,etc.\n",
    "2.20% Codificar.\n",
    "Algo que es de mucha utilidad es el hacer uso de pseudocódigo para los algoritmos."
   ]
  },
  {
   "cell_type": "markdown",
   "id": "accc012a",
   "metadata": {},
   "source": [
    "#### Ejemplo 1:\n",
    "Queremos resolver una integral\n",
    "\n",
    "1.Tenemos que saber que es una integral.\n",
    "\n",
    "2. Aplicar una estrategia para resolver la expresion que necesitamos resolver.\n",
    "\n",
    "- Si somos matematicos(calcular el limite de la suma infinita de la serie o sucesion.\n",
    "\n",
    "- Aplicar una formula .\n",
    "\n",
    "- Aplicamos un método numerico.\n",
    "\n",
    "3. Con la computadora tenemos aproximaciones a la solución.\n",
    "\n",
    "- Posibles métodos para resolver la integral(Trapecio,Runge-Kutta,Simpson).\n",
    "\n",
    "\n"
   ]
  },
  {
   "cell_type": "markdown",
   "id": "b6198124",
   "metadata": {},
   "source": [
    "Pseudocódigo:\n",
    "\n",
    "Datos de Entrada:\n",
    "\n",
    "1.f(x) = x^2\n",
    "\n",
    "2.A (altura) = 0.0\n",
    "\n",
    "3.B (base) = 1.0\n",
    "\n",
    "4.B>A\n",
    "\n",
    "5.Número de particiones = n\n",
    "\n",
    "Proceso\n",
    "\n",
    "delta = (B-A)/n\n",
    "\n",
    "x_i = A + (delta/2)\n",
    "h_1 = f(A + (delta/2)\n",
    "\n",
    "para i desde 1 hasta n\n",
    "   h_i = f(x_i)\n",
    "   suma = h_i + suma\n",
    "suma = suma * delta\n",
    "\n",
    "Mostramos el resultado:\n",
    "\n",
    "integral\n"
   ]
  },
  {
   "cell_type": "code",
   "execution_count": 10,
   "id": "a103d651",
   "metadata": {},
   "outputs": [
    {
     "name": "stdout",
     "output_type": "stream",
     "text": [
      "0.328125\n"
     ]
    }
   ],
   "source": [
    "#=\n",
    "comentarios por bloque\n",
    "=#\n",
    "#datos de entrada\n",
    "A = 0.0\n",
    "B = 1.0\n",
    "\n",
    "delta = (B-A)/4\n",
    "x_i = A + (delta/2)\n",
    "h1 = x_i * x_i\n",
    "x_i = x_i + delta\n",
    "h2 = x_i*x_i\n",
    "x_i = x_i + delta\n",
    "h3 = x_i * x_i\n",
    "x_i = x_i + delta\n",
    "h4 = x_i*x_i\n",
    "\n",
    "integral = (h1+h2+h3+h4)*delta\n",
    "println(integral)"
   ]
  },
  {
   "cell_type": "code",
   "execution_count": 17,
   "id": "11994d32",
   "metadata": {},
   "outputs": [
    {
     "name": "stdout",
     "output_type": "stream",
     "text": [
      "-1.5278640450004204\n",
      "-10.47213595499958\n"
     ]
    }
   ],
   "source": [
    "#crear el algoritmo para resolver una ecuacion de segundo grado con la formula de la chicharronera\n",
    "#forma del polinomio ax^2 + bx + c\n",
    "#datos de entrada\n",
    "a = 2\n",
    "b = 6\n",
    "c = 2\n",
    "#algoritmo\n",
    "x1 = (-b + sqrt(b^2 - 4ac))/2a #en julia podemos escribir multiplicaciones de variables por numero de forma natural\n",
    "x2 = (-b - sqrt(b^2-4ac))/2a\n",
    "\n",
    "println(x1)\n",
    "println(x2)\n",
    "\n",
    "#notas: en el procedimiento del algoritmo se debe considerar la posibilidad de que el usuario puede meter \n",
    "#por ejemplo valores como a = 0 lo cual va a ocasionar problemas en el codigo\n",
    "#casos: 1.si b^2 - 4*a*c > 0 funciona, 2. Si b^2 - 4*a*c < 0 x1 = (-b/2a) + sqrt(-1*(b^2-4*a*c))/2*a  + i\n",
    "# x2 = (-b/2a) - sqrt(-1*(b^2-4ac))/2a + i\n",
    "# (b^2 - 4*a*c) == 0 ent x1=x2= -b/2a"
   ]
  },
  {
   "cell_type": "code",
   "execution_count": 32,
   "id": "66850218",
   "metadata": {},
   "outputs": [
    {
     "name": "stdout",
     "output_type": "stream",
     "text": [
      "x1 = -0.5 + i 0.8660254037844386\n",
      "x1 = -0.5 - i 0.8660254037844386\n"
     ]
    }
   ],
   "source": [
    "#Datos de entrada\n",
    "a = 1\n",
    "b = 1\n",
    "c = 1\n",
    "#procedimiento\n",
    "#=\n",
    "Esta funcion lo que hace es calcular las raices de un polinomio de segundo grado usando la formula general.\n",
    "Datos de entrada: son los coeficientes de la ecuacion de segundo grado a,b y c que son numeros reales\n",
    "Datos de salida: las raices pueden ser del tipo reales o complejas conjugadas\n",
    "Ejemplo:\n",
    "Para a = b = c = 1\n",
    "la respuesta es obtener soluciones complejas como siguen:\n",
    "x1 = -0.5 + i 0.8660254037844386\n",
    "x1 = -0.5 - i 0.8660254037844386\n",
    "=#\n",
    "\n",
    "if a == 0\n",
    "    x = -c/b\n",
    "    println(\"Solo existe una raiz y es de la forma: $x\")\n",
    "elseif c == 0\n",
    "    println(\"x1 = 0\")\n",
    "    x = -b/a\n",
    "    println(\"x2 = $x\")\n",
    "else \n",
    "    det = b*b-4a*c\n",
    "    if det > 0 \n",
    "        x1 = (-b + sqrt(det))/2a\n",
    "        x2 = (-b - sqrt(det))/2a\n",
    "        println(\"x1 = $x1\")\n",
    "        println(\"x2 = $x2\")\n",
    "    elseif det == 0\n",
    "        x1 = x2 = -b/2a\n",
    "        println(\"x1 = $x1\")\n",
    "        println(\"x2 = $x2\")\n",
    "    else\n",
    "        xa = (-b/2a)\n",
    "        xb = sqrt(-1*(det))/2a\n",
    "        println(\"x1 = $xa + i $xb\")\n",
    "        println(\"x1 = $xa - i $xb\")\n",
    "    end\n",
    "end"
   ]
  }
 ],
 "metadata": {
  "kernelspec": {
   "display_name": "Julia 1.10.4",
   "language": "julia",
   "name": "julia-1.10"
  },
  "language_info": {
   "file_extension": ".jl",
   "mimetype": "application/julia",
   "name": "julia",
   "version": "1.10.4"
  }
 },
 "nbformat": 4,
 "nbformat_minor": 5
}
